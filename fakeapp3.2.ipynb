{
 "cells": [
  {
   "cell_type": "code",
   "execution_count": 1,
   "id": "7df5103f",
   "metadata": {},
   "outputs": [],
   "source": [
    "import numpy as np\n",
    "import pandas as pd\n",
    "import re\n",
    "from nltk.corpus import stopwords\n",
    "from nltk.stem.porter import PorterStemmer\n",
    "from sklearn.feature_extraction.text import TfidfVectorizer\n",
    "from sklearn.model_selection import train_test_split\n",
    "from sklearn.linear_model import LogisticRegression\n",
    "from sklearn.metrics import accuracy_score\n",
    "\n",
    "from sklearn import datasets, linear_model\n",
    "from sklearn.metrics import mean_squared_error, r2_score"
   ]
  },
  {
   "cell_type": "code",
   "execution_count": 2,
   "id": "632588ce",
   "metadata": {},
   "outputs": [
    {
     "name": "stdout",
     "output_type": "stream",
     "text": [
      "['i', 'me', 'my', 'myself', 'we', 'our', 'ours', 'ourselves', 'you', \"you're\", \"you've\", \"you'll\", \"you'd\", 'your', 'yours', 'yourself', 'yourselves', 'he', 'him', 'his', 'himself', 'she', \"she's\", 'her', 'hers', 'herself', 'it', \"it's\", 'its', 'itself', 'they', 'them', 'their', 'theirs', 'themselves', 'what', 'which', 'who', 'whom', 'this', 'that', \"that'll\", 'these', 'those', 'am', 'is', 'are', 'was', 'were', 'be', 'been', 'being', 'have', 'has', 'had', 'having', 'do', 'does', 'did', 'doing', 'a', 'an', 'the', 'and', 'but', 'if', 'or', 'because', 'as', 'until', 'while', 'of', 'at', 'by', 'for', 'with', 'about', 'against', 'between', 'into', 'through', 'during', 'before', 'after', 'above', 'below', 'to', 'from', 'up', 'down', 'in', 'out', 'on', 'off', 'over', 'under', 'again', 'further', 'then', 'once', 'here', 'there', 'when', 'where', 'why', 'how', 'all', 'any', 'both', 'each', 'few', 'more', 'most', 'other', 'some', 'such', 'no', 'nor', 'not', 'only', 'own', 'same', 'so', 'than', 'too', 'very', 's', 't', 'can', 'will', 'just', 'don', \"don't\", 'should', \"should've\", 'now', 'd', 'll', 'm', 'o', 're', 've', 'y', 'ain', 'aren', \"aren't\", 'couldn', \"couldn't\", 'didn', \"didn't\", 'doesn', \"doesn't\", 'hadn', \"hadn't\", 'hasn', \"hasn't\", 'haven', \"haven't\", 'isn', \"isn't\", 'ma', 'mightn', \"mightn't\", 'mustn', \"mustn't\", 'needn', \"needn't\", 'shan', \"shan't\", 'shouldn', \"shouldn't\", 'wasn', \"wasn't\", 'weren', \"weren't\", 'won', \"won't\", 'wouldn', \"wouldn't\"]\n"
     ]
    },
    {
     "name": "stderr",
     "output_type": "stream",
     "text": [
      "[nltk_data] Downloading package stopwords to\n",
      "[nltk_data]     C:\\Users\\HARLEN\\AppData\\Roaming\\nltk_data...\n",
      "[nltk_data]   Package stopwords is already up-to-date!\n"
     ]
    }
   ],
   "source": [
    "import nltk\n",
    "nltk.download('stopwords')\n",
    "print(stopwords.words('english'))"
   ]
  },
  {
   "cell_type": "code",
   "execution_count": 3,
   "id": "b5b640a5",
   "metadata": {},
   "outputs": [],
   "source": [
    "noticias = pd.read_csv('C:/Users/HARLEN/Cientista de dados/TCC/Fakeok/fakeapp3/news.csv')"
   ]
  },
  {
   "cell_type": "code",
   "execution_count": 4,
   "id": "adb39acf",
   "metadata": {},
   "outputs": [
    {
     "data": {
      "text/html": [
       "<div>\n",
       "<style scoped>\n",
       "    .dataframe tbody tr th:only-of-type {\n",
       "        vertical-align: middle;\n",
       "    }\n",
       "\n",
       "    .dataframe tbody tr th {\n",
       "        vertical-align: top;\n",
       "    }\n",
       "\n",
       "    .dataframe thead th {\n",
       "        text-align: right;\n",
       "    }\n",
       "</style>\n",
       "<table border=\"1\" class=\"dataframe\">\n",
       "  <thead>\n",
       "    <tr style=\"text-align: right;\">\n",
       "      <th></th>\n",
       "      <th>Unnamed: 0</th>\n",
       "      <th>title</th>\n",
       "      <th>text</th>\n",
       "      <th>label</th>\n",
       "    </tr>\n",
       "  </thead>\n",
       "  <tbody>\n",
       "    <tr>\n",
       "      <th>0</th>\n",
       "      <td>8476</td>\n",
       "      <td>You Can Smell Hillary’s Fear</td>\n",
       "      <td>Daniel Greenfield, a Shillman Journalism Fello...</td>\n",
       "      <td>FAKE</td>\n",
       "    </tr>\n",
       "    <tr>\n",
       "      <th>1</th>\n",
       "      <td>10294</td>\n",
       "      <td>Watch The Exact Moment Paul Ryan Committed Pol...</td>\n",
       "      <td>Google Pinterest Digg Linkedin Reddit Stumbleu...</td>\n",
       "      <td>FAKE</td>\n",
       "    </tr>\n",
       "    <tr>\n",
       "      <th>2</th>\n",
       "      <td>3608</td>\n",
       "      <td>Kerry to go to Paris in gesture of sympathy</td>\n",
       "      <td>U.S. Secretary of State John F. Kerry said Mon...</td>\n",
       "      <td>REAL</td>\n",
       "    </tr>\n",
       "    <tr>\n",
       "      <th>3</th>\n",
       "      <td>10142</td>\n",
       "      <td>Bernie supporters on Twitter erupt in anger ag...</td>\n",
       "      <td>— Kaydee King (@KaydeeKing) November 9, 2016 T...</td>\n",
       "      <td>FAKE</td>\n",
       "    </tr>\n",
       "    <tr>\n",
       "      <th>4</th>\n",
       "      <td>875</td>\n",
       "      <td>The Battle of New York: Why This Primary Matters</td>\n",
       "      <td>It's primary day in New York and front-runners...</td>\n",
       "      <td>REAL</td>\n",
       "    </tr>\n",
       "  </tbody>\n",
       "</table>\n",
       "</div>"
      ],
      "text/plain": [
       "   Unnamed: 0                                              title  \\\n",
       "0        8476                       You Can Smell Hillary’s Fear   \n",
       "1       10294  Watch The Exact Moment Paul Ryan Committed Pol...   \n",
       "2        3608        Kerry to go to Paris in gesture of sympathy   \n",
       "3       10142  Bernie supporters on Twitter erupt in anger ag...   \n",
       "4         875   The Battle of New York: Why This Primary Matters   \n",
       "\n",
       "                                                text label  \n",
       "0  Daniel Greenfield, a Shillman Journalism Fello...  FAKE  \n",
       "1  Google Pinterest Digg Linkedin Reddit Stumbleu...  FAKE  \n",
       "2  U.S. Secretary of State John F. Kerry said Mon...  REAL  \n",
       "3  — Kaydee King (@KaydeeKing) November 9, 2016 T...  FAKE  \n",
       "4  It's primary day in New York and front-runners...  REAL  "
      ]
     },
     "execution_count": 4,
     "metadata": {},
     "output_type": "execute_result"
    }
   ],
   "source": [
    "noticias.head()"
   ]
  },
  {
   "cell_type": "code",
   "execution_count": 5,
   "id": "098dce3e",
   "metadata": {},
   "outputs": [
    {
     "data": {
      "text/plain": [
       "Unnamed: 0    0\n",
       "title         0\n",
       "text          0\n",
       "label         0\n",
       "dtype: int64"
      ]
     },
     "execution_count": 5,
     "metadata": {},
     "output_type": "execute_result"
    }
   ],
   "source": [
    "# Verifica-se a falta de valores no datates\n",
    "noticias.isnull().sum()"
   ]
  },
  {
   "cell_type": "code",
   "execution_count": 6,
   "id": "1221f362",
   "metadata": {},
   "outputs": [],
   "source": [
    "# Unindo as manchetes com as notícias\n",
    "noticias['content'] = noticias['title']+' '+noticias['text']"
   ]
  },
  {
   "cell_type": "code",
   "execution_count": 7,
   "id": "98914ccc",
   "metadata": {},
   "outputs": [
    {
     "name": "stdout",
     "output_type": "stream",
     "text": [
      "0       You Can Smell Hillary’s Fear Daniel Greenfield...\n",
      "1       Watch The Exact Moment Paul Ryan Committed Pol...\n",
      "2       Kerry to go to Paris in gesture of sympathy U....\n",
      "3       Bernie supporters on Twitter erupt in anger ag...\n",
      "4       The Battle of New York: Why This Primary Matte...\n",
      "                              ...                        \n",
      "6330    State Department says it can't find emails fro...\n",
      "6331    The ‘P’ in PBS Should Stand for ‘Plutocratic’ ...\n",
      "6332    Anti-Trump Protesters Are Tools of the Oligarc...\n",
      "6333    In Ethiopia, Obama seeks progress on peace, se...\n",
      "6334    Jeb Bush Is Suddenly Attacking Trump. Here's W...\n",
      "Name: content, Length: 6335, dtype: object\n"
     ]
    }
   ],
   "source": [
    "print(noticias['content'])"
   ]
  },
  {
   "cell_type": "code",
   "execution_count": 8,
   "id": "17dd81d2",
   "metadata": {},
   "outputs": [],
   "source": [
    "# separanto o label do dataframe\n",
    "X = noticias.drop(columns='label', axis=1)\n",
    "Y = noticias['label']"
   ]
  },
  {
   "cell_type": "code",
   "execution_count": 9,
   "id": "c38ff2d0",
   "metadata": {},
   "outputs": [
    {
     "name": "stdout",
     "output_type": "stream",
     "text": [
      "      Unnamed: 0                                              title  \\\n",
      "0           8476                       You Can Smell Hillary’s Fear   \n",
      "1          10294  Watch The Exact Moment Paul Ryan Committed Pol...   \n",
      "2           3608        Kerry to go to Paris in gesture of sympathy   \n",
      "3          10142  Bernie supporters on Twitter erupt in anger ag...   \n",
      "4            875   The Battle of New York: Why This Primary Matters   \n",
      "...          ...                                                ...   \n",
      "6330        4490  State Department says it can't find emails fro...   \n",
      "6331        8062  The ‘P’ in PBS Should Stand for ‘Plutocratic’ ...   \n",
      "6332        8622  Anti-Trump Protesters Are Tools of the Oligarc...   \n",
      "6333        4021  In Ethiopia, Obama seeks progress on peace, se...   \n",
      "6334        4330  Jeb Bush Is Suddenly Attacking Trump. Here's W...   \n",
      "\n",
      "                                                   text  \\\n",
      "0     Daniel Greenfield, a Shillman Journalism Fello...   \n",
      "1     Google Pinterest Digg Linkedin Reddit Stumbleu...   \n",
      "2     U.S. Secretary of State John F. Kerry said Mon...   \n",
      "3     — Kaydee King (@KaydeeKing) November 9, 2016 T...   \n",
      "4     It's primary day in New York and front-runners...   \n",
      "...                                                 ...   \n",
      "6330  The State Department told the Republican Natio...   \n",
      "6331  The ‘P’ in PBS Should Stand for ‘Plutocratic’ ...   \n",
      "6332   Anti-Trump Protesters Are Tools of the Oligar...   \n",
      "6333  ADDIS ABABA, Ethiopia —President Obama convene...   \n",
      "6334  Jeb Bush Is Suddenly Attacking Trump. Here's W...   \n",
      "\n",
      "                                                content  \n",
      "0     You Can Smell Hillary’s Fear Daniel Greenfield...  \n",
      "1     Watch The Exact Moment Paul Ryan Committed Pol...  \n",
      "2     Kerry to go to Paris in gesture of sympathy U....  \n",
      "3     Bernie supporters on Twitter erupt in anger ag...  \n",
      "4     The Battle of New York: Why This Primary Matte...  \n",
      "...                                                 ...  \n",
      "6330  State Department says it can't find emails fro...  \n",
      "6331  The ‘P’ in PBS Should Stand for ‘Plutocratic’ ...  \n",
      "6332  Anti-Trump Protesters Are Tools of the Oligarc...  \n",
      "6333  In Ethiopia, Obama seeks progress on peace, se...  \n",
      "6334  Jeb Bush Is Suddenly Attacking Trump. Here's W...  \n",
      "\n",
      "[6335 rows x 4 columns]\n",
      "0       FAKE\n",
      "1       FAKE\n",
      "2       REAL\n",
      "3       FAKE\n",
      "4       REAL\n",
      "        ... \n",
      "6330    REAL\n",
      "6331    FAKE\n",
      "6332    FAKE\n",
      "6333    REAL\n",
      "6334    REAL\n",
      "Name: label, Length: 6335, dtype: object\n"
     ]
    }
   ],
   "source": [
    "print(X)\n",
    "print(Y)"
   ]
  },
  {
   "cell_type": "code",
   "execution_count": 10,
   "id": "b4d51bb8",
   "metadata": {},
   "outputs": [],
   "source": [
    "#Stemização, aqui vamos reduzir as palavras ao sua raiz(CASinha, CASona, CASebre = CASa)\n",
    "port_stem = PorterStemmer()\n",
    "corpus = []"
   ]
  },
  {
   "cell_type": "code",
   "execution_count": 11,
   "id": "4782ed16",
   "metadata": {},
   "outputs": [],
   "source": [
    "for i in range(0, len(X)):\n",
    "    stemmed_content = re.sub('[^a-zA-Z]',' ',noticias['content'][i])\n",
    "    stemmed_content = stemmed_content.lower()\n",
    "    stemmed_content = stemmed_content.split()\n",
    "    stemmed_content = [port_stem.stem(word) for word in stemmed_content if not word in stopwords.words('english')]\n",
    "    stemmed_content = ' '.join(stemmed_content)\n",
    "    corpus.append(stemmed_content)"
   ]
  },
  {
   "cell_type": "code",
   "execution_count": 12,
   "id": "919578e1",
   "metadata": {},
   "outputs": [
    {
     "name": "stdout",
     "output_type": "stream",
     "text": [
      "0       You Can Smell Hillary’s Fear Daniel Greenfield...\n",
      "1       Watch The Exact Moment Paul Ryan Committed Pol...\n",
      "2       Kerry to go to Paris in gesture of sympathy U....\n",
      "3       Bernie supporters on Twitter erupt in anger ag...\n",
      "4       The Battle of New York: Why This Primary Matte...\n",
      "                              ...                        \n",
      "6330    State Department says it can't find emails fro...\n",
      "6331    The ‘P’ in PBS Should Stand for ‘Plutocratic’ ...\n",
      "6332    Anti-Trump Protesters Are Tools of the Oligarc...\n",
      "6333    In Ethiopia, Obama seeks progress on peace, se...\n",
      "6334    Jeb Bush Is Suddenly Attacking Trump. Here's W...\n",
      "Name: content, Length: 6335, dtype: object\n"
     ]
    }
   ],
   "source": [
    "print(noticias['content'])"
   ]
  },
  {
   "cell_type": "code",
   "execution_count": 13,
   "id": "97984ab2",
   "metadata": {},
   "outputs": [],
   "source": [
    "#separando as noticias e seus valores falso ou positivo, 1 = fake e 0 = verdadeira\n",
    "X = noticias['content'].values\n",
    "Y = noticias['label'].values"
   ]
  },
  {
   "cell_type": "code",
   "execution_count": 14,
   "id": "55924eaf",
   "metadata": {},
   "outputs": [
    {
     "name": "stdout",
     "output_type": "stream",
     "text": [
      "['You Can Smell Hillary’s Fear Daniel Greenfield, a Shillman Journalism Fellow at the Freedom Center, is a New York writer focusing on radical Islam. \\nIn the final stretch of the election, Hillary Rodham Clinton has gone to war with the FBI. \\nThe word “unprecedented” has been thrown around so often this election that it ought to be retired. But it’s still unprecedented for the nominee of a major political party to go war with the FBI. \\nBut that’s exactly what Hillary and her people have done. Coma patients just waking up now and watching an hour of CNN from their hospital beds would assume that FBI Director James Comey is Hillary’s opponent in this election. \\nThe FBI is under attack by everyone from Obama to CNN. Hillary’s people have circulated a letter attacking Comey. There are currently more media hit pieces lambasting him than targeting Trump. It wouldn’t be too surprising if the Clintons or their allies were to start running attack ads against the FBI. \\nThe FBI’s leadership is being warned that the entire left-wing establishment will form a lynch mob if they continue going after Hillary. And the FBI’s credibility is being attacked by the media and the Democrats to preemptively head off the results of the investigation of the Clinton Foundation and Hillary Clinton. \\nThe covert struggle between FBI agents and Obama’s DOJ people has gone explosively public. \\nThe New York Times has compared Comey to J. Edgar Hoover. Its bizarre headline, “James Comey Role Recalls Hoover’s FBI, Fairly or Not” practically admits up front that it’s spouting nonsense. The Boston Globe has published a column calling for Comey’s resignation. Not to be outdone, Time has an editorial claiming that the scandal is really an attack on all women. \\nJames Carville appeared on MSNBC to remind everyone that he was still alive and insane. He accused Comey of coordinating with House Republicans and the KGB. And you thought the “vast right wing conspiracy” was a stretch. \\nCountless media stories charge Comey with violating procedure. Do you know what’s a procedural violation? Emailing classified information stored on your bathroom server. \\nSenator Harry Reid has sent Comey a letter accusing him of violating the Hatch Act. The Hatch Act is a nice idea that has as much relevance in the age of Obama as the Tenth Amendment. But the cable news spectrum quickly filled with media hacks glancing at the Wikipedia article on the Hatch Act under the table while accusing the FBI director of one of the most awkward conspiracies against Hillary ever. \\nIf James Comey is really out to hurt Hillary, he picked one hell of a strange way to do it. \\nNot too long ago Democrats were breathing a sigh of relief when he gave Hillary Clinton a pass in a prominent public statement. If he really were out to elect Trump by keeping the email scandal going, why did he trash the investigation? Was he on the payroll of House Republicans and the KGB back then and playing it coy or was it a sudden development where Vladimir Putin and Paul Ryan talked him into taking a look at Anthony Weiner’s computer? \\nEither Comey is the most cunning FBI director that ever lived or he’s just awkwardly trying to navigate a political mess that has trapped him between a DOJ leadership whose political futures are tied to Hillary’s victory and his own bureau whose apolitical agents just want to be allowed to do their jobs. \\nThe only truly mysterious thing is why Hillary and her associates decided to go to war with a respected Federal agency. Most Americans like the FBI while Hillary Clinton enjoys a 60% unfavorable rating. \\nAnd it’s an interesting question. \\nHillary’s old strategy was to lie and deny that the FBI even had a criminal investigation underway. Instead her associates insisted that it was a security review. The FBI corrected her and she shrugged it off. But the old breezy denial approach has given way to a savage assault on the FBI. \\nPretending that nothing was wrong was a bad strategy, but it was a better one that picking a fight with the FBI while lunatic Clinton associates try to claim that the FBI is really the KGB. \\nThere are two possible explanations. \\nHillary Clinton might be arrogant enough to lash out at the FBI now that she believes that victory is near. The same kind of hubris that led her to plan her victory fireworks display could lead her to declare a war on the FBI for irritating her during the final miles of her campaign. \\nBut the other explanation is that her people panicked. \\nGoing to war with the FBI is not the behavior of a smart and focused presidential campaign. It’s an act of desperation. When a presidential candidate decides that her only option is to try and destroy the credibility of the FBI, that’s not hubris, it’s fear of what the FBI might be about to reveal about her. \\nDuring the original FBI investigation, Hillary Clinton was confident that she could ride it out. And she had good reason for believing that. But that Hillary Clinton is gone. In her place is a paranoid wreck. Within a short space of time the “positive” Clinton campaign promising to unite the country has been replaced by a desperate and flailing operation that has focused all its energy on fighting the FBI. \\nThere’s only one reason for such bizarre behavior. \\nThe Clinton campaign has decided that an FBI investigation of the latest batch of emails poses a threat to its survival. And so it’s gone all in on fighting the FBI. It’s an unprecedented step born of fear. It’s hard to know whether that fear is justified. But the existence of that fear already tells us a whole lot. \\nClinton loyalists rigged the old investigation. They knew the outcome ahead of time as well as they knew the debate questions. Now suddenly they are no longer in control. And they are afraid. \\nYou can smell the fear. \\nThe FBI has wiretaps from the investigation of the Clinton Foundation. It’s finding new emails all the time. And Clintonworld panicked. The spinmeisters of Clintonworld have claimed that the email scandal is just so much smoke without fire. All that’s here is the appearance of impropriety without any of the substance. But this isn’t how you react to smoke. It’s how you respond to a fire. \\nThe misguided assault on the FBI tells us that Hillary Clinton and her allies are afraid of a revelation bigger than the fundamental illegality of her email setup. The email setup was a preemptive cover up. The Clinton campaign has panicked badly out of the belief, right or wrong, that whatever crime the illegal setup was meant to cover up is at risk of being exposed. \\nThe Clintons have weathered countless scandals over the years. Whatever they are protecting this time around is bigger than the usual corruption, bribery, sexual assaults and abuses of power that have followed them around throughout the years. This is bigger and more damaging than any of the allegations that have already come out. And they don’t want FBI investigators anywhere near it. \\nThe campaign against Comey is pure intimidation. It’s also a warning. Any senior FBI people who value their careers are being warned to stay away. The Democrats are closing ranks around their nominee against the FBI. It’s an ugly and unprecedented scene. It may also be their last stand. \\nHillary Clinton has awkwardly wound her way through numerous scandals in just this election cycle. But she’s never shown fear or desperation before. Now that has changed. Whatever she is afraid of, it lies buried in her emails with Huma Abedin. And it can bring her down like nothing else has.  '\n",
      " 'Watch The Exact Moment Paul Ryan Committed Political Suicide At A Trump Rally (VIDEO) Google Pinterest Digg Linkedin Reddit Stumbleupon Print Delicious Pocket Tumblr \\nThere are two fundamental truths in this world: Paul Ryan desperately wants to be president. And Paul Ryan will never be president. Today proved it. \\nIn a particularly staggering example of political cowardice, Paul Ryan re-re-re-reversed course and announced that he was back on the Trump Train after all. This was an aboutface from where he was a few weeks ago. He had previously declared he would not be supporting or defending Trump after a tape was made public in which Trump bragged about assaulting women. Suddenly, Ryan was appearing at a pro-Trump rally and boldly declaring that he already sent in his vote to make him President of the United States. It was a surreal moment. The figurehead of the Republican Party dosed himself in gasoline, got up on a stage on a chilly afternoon in Wisconsin, and lit a match. . @SpeakerRyan says he voted for @realDonaldTrump : “Republicans, it is time to come home” https://t.co/VyTT49YvoE pic.twitter.com/wCvSCg4a5I \\n— ABC News Politics (@ABCPolitics) November 5, 2016 \\nThe Democratic Party couldn’t have asked for a better moment of film. Ryan’s chances of ever becoming president went down to zero in an instant. In the wreckage Trump is to leave behind in his wake, those who cravenly backed his campaign will not recover. If Ryan’s career manages to limp all the way to 2020, then the DNC will have this tape locked and loaded to be used in every ad until Election Day. \\nThe ringing endorsement of the man he clearly hates on a personal level speaks volumes about his own spinelessness. Ryan has postured himself as a “principled” conservative, and one uncomfortable with Trump’s unapologetic bigotry and sexism. However, when push came to shove, Paul Ryan – like many of his colleagues – turned into a sniveling appeaser. After all his lofty tak about conviction, his principles were a house of cards and collapsed with the slightest breeze. \\nWhat’s especially bizarre is how close Ryan came to making it through unscathed. For months the Speaker of the House refused to comment on Trump at all. His strategy seemed to be to keep his head down, pretend Trump didn’t exist, and hope that nobody remembered what happened in 2016. Now, just days away from the election, he screwed it all up. \\nIf 2016’s very ugly election has done any good it’s by exposing the utter cowardice of the Republicans who once feigned moral courage. A reality television star spit on them, hijacked their party, insulted their wives, and got every last one of them to kneel before him. What a turn of events. \\nFeatured image via Twitter'\n",
      " 'Kerry to go to Paris in gesture of sympathy U.S. Secretary of State John F. Kerry said Monday that he will stop in Paris later this week, amid criticism that no top American officials attended Sunday’s unity march against terrorism.\\n\\nKerry said he expects to arrive in Paris Thursday evening, as he heads home after a week abroad. He said he will fly to France at the conclusion of a series of meetings scheduled for Thursday in Sofia, Bulgaria. He plans to meet the next day with Foreign Minister Laurent Fabius and President Francois Hollande, then return to Washington.\\n\\nThe visit by Kerry, who has family and childhood ties to the country and speaks fluent French, could address some of the criticism that the United States snubbed France in its darkest hour in many years.\\n\\nThe French press on Monday was filled with questions about why neither President Obama nor Kerry attended Sunday’s march, as about 40 leaders of other nations did. Obama was said to have stayed away because his own security needs can be taxing on a country, and Kerry had prior commitments.\\n\\nAmong roughly 40 leaders who did attend was Israeli Prime Minister Benjamin Netanyahu, no stranger to intense security, who marched beside Hollande through the city streets. The highest ranking U.S. officials attending the march were Jane Hartley, the ambassador to France, and Victoria Nuland, the assistant secretary of state for European affairs. Attorney General Eric H. Holder Jr. was in Paris for meetings with law enforcement officials but did not participate in the march.\\n\\nKerry spent Sunday at a business summit hosted by India’s prime minister, Narendra Modi. The United States is eager for India to relax stringent laws that function as barriers to foreign investment and hopes Modi’s government will act to open the huge Indian market for more American businesses.\\n\\nIn a news conference, Kerry brushed aside criticism that the United States had not sent a more senior official to Paris as “quibbling a little bit.” He noted that many staffers of the American Embassy in Paris attended the march, including the ambassador. He said he had wanted to be present at the march himself but could not because of his prior commitments in India.\\n\\n“But that is why I am going there on the way home, to make it crystal clear how passionately we feel about the events that have taken place there,” he said.\\n\\n“And I don’t think the people of France have any doubts about America’s understanding of what happened, of our personal sense of loss and our deep commitment to the people of France in this moment of trauma.”'\n",
      " ...\n",
      " \"Anti-Trump Protesters Are Tools of the Oligarchy     : Information  Anti-Trump Protesters Are Tools of the Oligarchy \\x93Reform always provokes rage on the part of those who profit by the old order.\\x94 Arthur M. Schlesinger, Jr., The Crisis of the Old Order\\nBy Paul Craig Roberts\\n Who are the anti-Trump protesters besmirching the name of progressives by pretending to be progressives and by refusing to accept the outcome of the presidential election? They look like, and are acting worse than, the \\x93white trash\\x94 that they are denouncing.\\nI think I know who they are. They are thugs for hire and are paid by the Oligarchy to delegitimize Trump\\x92s presidency in the way that Washington and the German Marshall Fund paid students in Kiev to protest the democratically elected Ukrainian government in order to prepare the way for a coup.\\nThe organization, change.org, which claims to be a progressive group, but might be a front, along with other progressive groups, for the Oligarchy, is destroying the reputation of all progressives by circulating a petition that directs the electors of the Electoral Collage to annul the election by casting their votes for Hillary. Remember how upset progressives were when Trump said he might not accept the election result if there was evidence that the vote was rigged? Now progressives are doing what they damned Trump for saying he might do under certain conditions.\\nThe Western presstitutes used the protests in Kiev to delegitimize a democratically elected government and to set it up for a coup. The protest pay was good enough that non-Ukrainians came from nearby countries to participate in the protest in order to collect the money. At the time I posted the amounts paid daily to protesters. Reports came in to me from Eastern and Western Europe from people who were not Ukrainian but were paid to protest as if they were Ukrainians.\\nThe same thing is going on with the Trump protests. CNN reports that \\x93for many Americans across the country, Donald Trump\\x92s victory is an outcome they simply refuse to accept. Tens of thousands filled the streets in at least 25 US cities overnight.\\x94 This is the exact reporting that the Oligarchy desired from its presstitutes and got.\\nI hope no one thinks that simultaneous protests in 25 cities were a spontaneous event. How did 25 independent protests manage to come up with the same slogans and the same signs on the same night following the election?\\nWhat is the point of the protests, and what interest is served by them? As the Romans always asked, \\x93who benefits?\\x94\\nThere is only one answer: The Oligarchy and only the Oligarchy benefits.\\nTrump is a threat to the Oligarchy, because he intends to stop the giveaway of American jobs to foreigners. The jobs giveaway, sanctified by the neoliberal junk economists as \\x93free trade,\\x94 is one of the main reasons for the 21st century worsening of the US income distribution. Money that was formerly paid in middle class wages and salaries to American manufacturing employees and college graduates has been re-routed to the pockets of the One Percent.\\nWhen US corporations move their production of goods and services sold to Americans offshore to Asian countries, such as China and India, their wage bill falls. The money formerly paid in middle class incomes goes instead into executive bonuses and dividends and capital gains to shareholders. The ladders of upward mobility that had made America the land of opportunity were dismantled for the sole purpose of making a handful of people multi-billionaires.\\nTrump is a threat to the Oligarchy, because he intends peaceful relations with Russia. In order to replace the profitable Soviet Threat, the Oligarchy and their neoconservative agents worked overtime to recreate the \\x93Russian Threat\\x94 by demonizing Russia.\\nAccustomed to many decades of excess profits from the profitable Cold War, the military/security complex was angry when President Reagan brought the Cold War to an end. Before these leaches on American taxpayers could get the Cold War going again, the Soviet Union collapsed as a result of a right-wing coup against Soviet President Mikhail Gorbachev.\\nThe military/security complex and their zionist neoconservative agents cooked up \\x93the war on terror\\x94 to keep the money flowing to the One Percent. But as hard as the presstitute media worked to create fear of \\x93the Muslim threat,\\x94 even insouciant Americans knew that the Muslims did not have thousands of ICBMs carrying powerful thermo-nuclear weapons capable of destroying the entirety of the United States in a few minutes. Neither did the Muslims have the Red Army capable of overrunning all of Europe in a couple of days. Indeed, the Muslims haven\\x92t needed an army. Refugees from Washington\\x92s wars enabled by Europeans are overrunning Europe.\\nThe excuse for the annual trillion dollar ($1,000 billion ) military/security budget was missing. So the Oligarchy created \\x93the New Hitler\\x94 in Russia. Hillary was the Oligarchy\\x92s principle agent for heating up the new Cold War.\\nHillary is the tool, enriched by the Oligarchy, whose job as President was to protect and to increase the trillion dollar budget of the military/security complex. With Hillary in the White House, the looting of the American taxpayers in behalf of the wealth of the One Percent could go forward unimpeded. But if Trump resolves \\x93the Russian threat,\\x94 the Oligarchy takes an income hit.\\nHillary\\x92s job as President was also to privatize Social Security in order that her Wall Street benefactors can rip off Americans the way that Americans have been ripped off by the insurance companies under Obamacare.\\nThose Americans who do not pay attention think, mistakenly, that the FBI cleared Hillary of violating National Security protocols with her email practices. The FBI said that Hillary did violate National Security, but that it was a result of carelessness or ignorance. She got off from indictment, because the FBI concluded that she did not intentionally violate National Security protocols. The investigation of the Clinton Foundation continues.\\nIn other words, in order to protect Hillary the FBI fell back on the ancient common law rule that \\x93there can be no crime without intent.\\x94 (See PCR and Lawrence Stratton, The Tyranny of Good Intentions .)\\nOne would think that protesters, if they were legitimate, would be celebrating Trump\\x92s victory. He, unlike Hillary, promises to reduce tensions with powerful Russia, and we hope also with China. Unlike Hillary, Trump says he is concerned with the absence of careers for those very people protesting in the streets of 25 cities against him.\\nIn other words, the protests against the American people for electing Trump as their president are pointless. The protests are happening for one reason only. The Oligarchy intends to delegitimize the Trump Presidency. Once President Trump is delegitimized, it will be easier for the Oligarchy to assassinate him. Unless the Oligarchy can appoint and control Trump\\x92s government, Trump is a prime candidate for assassination.\\nThe protests against Trump are suspicious for another reason. Unlike Hillary, Obama, and George W. Bush, Donald Trump has not slaughtered and dislocated millions of peoples in seven countries, sending millions of refugees from the Oligarchy\\x92s wars to overrun Europe.\\nTrump earned his fortune, and if by hook or crook, not by selling US government influence to foreign agents as Bill and Hillary did.\\nSo what are the protesters protesting?\\nThere is no answer except that they are hired to protest. Just as the Maidan protesters in Kiev were hired to protest by US and German financed NGOs.\\nThe protests in Kiev were equally pointless, because presidential elections were only months away. If Ukrainians really believed that their president was conspiring with Russia to keep Ukraine from becoming a Western puppet state and wished to become a puppet state regardless of the costs, the opportunity to vote the government out was at hand. The only reason for the protests was to orchestrate a coup. The US did succeed in putting their agent in control of the new Ukrainian government as Victoria Nuland and the US ambassador in Kiev confirmed in their telephone conversation that is available on the Internet.\\nThe Maidan protests were pointless except for making a coup possible. The protests were without any doubt arranged by Washington through Assistant Secretary of State Victoria Nuland, a neoconservative brought into the State Department by Hillary Clinton for the purpose of creating conflict with Russia.\\nTrump is being protested in order to make him vulnerable in the event he proves to be the threat to the Oligarchy that he is thought to be.\\nTrump won the presidency, but the Oligarchy is still in power, which makes any real reforms difficult to achieve. Symbolic reforms can be the product of the contest between President Trump and the oligarchs.\\nKarl Marx learned from historical experience, and Lenin, Stalin, and Pol Pot learned from Karl Marx, that change cannot occur if the displaced ruling class is left intact after a revolution against them. We have proof of this throughout South America. Every revolution by the indigenous people has left unmolested the Spanish ruling class, and every revolution has been overthrown by collusion between the ruling class and Washington.\\nWashington has conspired with traditional elites to remove the elected presidents of Honduras on a number of occasions. Recently, Washington helped elites evict the female presidents of Argentina and Brazil. The presidents of Venezuela, Ecuador, and Bolivia are in the crosshairs and are unlikely to survive. Washington is determined to get its hands on Julian Assange. To achieve this Washington intends to overthrow the Ecuadoran government that, in defiance of Washington, gave Julian Assange political asylum.\\nHugo Chavez had the power to exile or to exterminate the Spanish ruling class in Venezuela when the ruling class participated in a CIA coup against Chavez. But before the CIA could kill Chavez, the people and the military forced his release. Instead of punishing the criminals who would have murdered him, Chavez let them go.\\nAccording to Marx, Lenin, and Stalin, this is the classic mistake of the revolutionary. To rely on good will from the overthrown ruling class is the certain road to the defeat of the revolution.\\nLatin American has proved itself unable to learn this lesson: Revolutions cannot be conciliatory.\\nTrump is a dealmaker. The Oligarchy can permit him the sheen of success in exchange for no real change.\\nTrump is not perfect. He might fail on his own. But we should back him on the two most important elements in his program: to reduce tensions between the major nuclear powers, and to halt Washington\\x92s policy of permitting globalism to destroy Americans\\x92 economic prospects.\\nIf tensions between nuclear powers worsen, we won\\x92t be here to worry about other problems. The combination of the economy hollowed out by globalism and immigration is an economic nightmare. That Trump understands this is reason to support him.\\nNote: Some believe that Trump is a ruse conducted by the Oligarchy. However, as Hillary is the bought-and-paid-for representative of the Oligarchy, such an elaborate ruse is unnecessary. It is preferable for the Oligarchy to win on its own platform than to install a president on the opposite platform and then change him around. Another sellout increases the anger of the people. If Hillary had won, the Oligarchy would have had the voters\\x92 mandate for their platform.\\nDr. Paul Craig Roberts was Assistant Secretary of the Treasury for Economic Policy and associate editor of the Wall Street Journal. He was columnist for Business Week, Scripps Howard News Service, and Creators Syndicate. He has had many university appointments. His internet columns have attracted a worldwide following. Roberts' latest books are The Failure of Laissez Faire Capitalism and Economic Dissolution of the West , How America Was Lost , and The Neoconservative Threat to World Order .\"\n",
      " 'In Ethiopia, Obama seeks progress on peace, security in East Africa ADDIS ABABA, Ethiopia —President Obama convened a meeting with the leaders of several East African nations and the African Union on Monday in an effort to address the worsening situation in South Sudan, even as he met with Ethiopia’s prime minister to discuss how to strengthen human rights and democratic institutions here.\\n\\nWith no resolution in sight for the ongoing conflict in South Sudan, Obama brought together top officials from Ethiopia, Uganda, Kenya, Sudan and the A.U. to chart out a strategy in the event that the latest round of peace talks fail.\\n\\nAfrican nations, led by Ethiopia, have been trying to broker a peace in South Sudan through the Intergovernmental Authority on Development (IGAD), a regional body, and are almost ready to present a possible compromise to the warring parties. The two sides will have until Aug. 17 to respond to the proposal, but administration officials have little expectation that they will accept it.\\n\\nOn Monday, Obama praised the regional leaders for showing “extraordinary leadership in trying to address the continuing situation in South Sudan.” The group included Ethiopian Prime Minister Hailemariam Desalegn, Ugandan President Yoweri Museveni, Kenyan President Uhuru Kenyatta, African Union Chairperson Dlamini Zuma and Sudan’s minister of foreign affairs, Ibrahim Ghandour.\\n\\n“This gives me and the U.S. delegation an opportunity to learn from them what progress has been made, where there appears to be continued roadblocks and how we can partner with them to make progress,” Obama said. “Our hope is that we can actually bring about the kind of peace that the people of South Sudan so desperately need.”\\n\\nThe question of South Sudan — a nation that the United States helped bring into existence in 2011 after years of effort by both the George W. Bush and Obama administrations — has vexed American policymakers for years.\\n\\nIn December 2013, South Sudan President Salva Kiir accused Riek Machar, who had served as his vice president, of attempting a coup d’etat. The two had been longtime political rivals from different ethnic groups — Kiir is Dinka, Machar is a Nuer — who had come together to form a government when the country was first created.\\n\\nWhile tribal differences have helped fuel the conflict, the war has been largely focused on control of the nation’s oil fields, South Sudan’s primary source of revenue.\\n\\nPrinceton Lyman, U.S. special envoy for Sudan and South Sudan from 2011 to 2013, noted that when he first took over as envoy, the United States had spent $10 billion on peacekeeping and other assistance for the two nations, “and that was four years ago… This is a big investment,” he added.\\n\\nAt this point, more than 2.5 million people are facing food shortages, while roughly 1.5 million are displaced from their homes. An additional 520,000 South Sudanese have fled across the border into neighboring countries, including Ethiopia.\\n\\nThe conflict also poses a major economic problem for Kenya, which had major investments in South Sudan before the fighting broke out. The LAPSSET Corridor project was aimed at transporting oil from South Sudan to the Kenyan port of Lamu, and according to E.J. Hogendoorn, deputy program director for Africa at the International Crisis Group, the planned transportation and infrastructure development could have been an “engine of development\" for many parts of East Africa. \"Unfortunately, of course, that’s on hold because of the war,” he said.\\n\\nWhile Obama spent part of the afternoon addressing a regional conflict in Africa, he devoted the rest of the day to strengthening ties with Ethiopia, whose alliance with the United States dates back more than a century. But the current government has come under sharp criticism for its treatment of political opponents and journalists.\\n\\nObama is the first sitting U.S. president to visit Ethiopia.\\n\\nIn a news conference Monday afternoon, both Obama and Hailemariam said they had a frank discussion about Ethiopia\\'s human rights practices and the need for improvement. Ethiopia is Africa’s number two jailer of journalists, according to the Committee to Protect Journalists, and its ruling party won 100 percent of the seats in May’s parliamentary elections.\\n\\nWhite House national security adviser Susan Rice, asked last week whether she considered Ethiopia a democracy, replied, with irony: “One hundred percent.”\\n\\nBut during the news conference Obama twice referred to the Ethiopian government as “democratically elected.”\\n\\n“I don’t bite my tongue,” Obama said of raising concerns on these issues with Ethiopia. “But I do so from a position of respect.”\\n\\nHailemariam, for his part, said, “Our commitment to democracy is real, not skin deep.”\\n\\nBut he added later that people could not expect sweeping reforms given the fact that military rule ended just a couple of decades ago. “Something has to be understood: This is a fledgling democracy.”\\n\\nThe two leaders also discussed their collaboration on counterterrorism, an area in which Ethiopia has been an active leader. The White House announced Monday it will “work with Congress to provide approximately $465 million” this year in new training, equipment and capacity-building aid to its African allies.\\n\\nThe administration also said it would provide at least $40 million in assistance this fiscal year to combat violent extremism in East Africa. The money is intended to foster collaboration among security forces, law enforcement, government officials, community leaders and members of civil society, officials said.\\n\\nObama praised Ethiopia’s work to curb extremist activity but noted that its government had labeled some opposition groups as posing a greater threat than U.S. intelligence would indicate. “Our intelligence indicates while they may oppose the government, they have not tipped into terrorism,” he said.\\n\\nThe United States provides more than $600 million in\\xa0assistance to Ethiopia annually. The vast bulk of that — $490 million — comes from the U.S. Agency for International Development, while the rest is largely security-related. Last fiscal year, nearly $200 million went to health programs, while $163 million went to humanitarian aid.\\n\\nObama said Ethiopia “has proven itself a global leader” on development and over the past 15 years “has lifted millions of people out of poverty.”\\n\\n“To many people around the world, their image of Ethiopia remains stuck in the past, remembering drought and famine,” he said.\\n\\nThe two leaders appeared to have a friendly rapport throughout the news conference. Hailemariam described his country as scoring a series of firsts: Along with being “the cradle of mankind,” he said, “Ethiopia is the birthplace of coffee.” That elicited a smile from Obama.\\n\\nObama said he was impressed by the Ethiopian’s unusual pets. “I had a chance to see the famous lions that live on the grounds,\" he said. \"I’m considering getting some for the White House.” But he conceded that before he did that, “I’ll have to make sure my dogs are safe.”'\n",
      " 'Jeb Bush Is Suddenly Attacking Trump. Here\\'s Why That Matters Jeb Bush Is Suddenly Attacking Trump. Here\\'s Why That Matters\\n\\nJeb Bush isn\\'t pulling punches anymore when it comes to Donald Trump.\\n\\nThe former Florida governor has delicately danced around the billionaire businessman in the 2016 presidential primary so far. But the gloves came off this week when Bush called out Trump as a closet Democrat. He was trying to stunt Trump\\'s rise while attempting to recover his own political mojo.\\n\\n\"What Jeb is desperately trying to do is find his swagger right now,\" GOP strategist Ford O\\'Connell said. \"The knock against Jeb is that he\\'s low voltage and not willing to fight. The best way to shake those perceptions it to engage against the person who is in the media on a 24/7 loop.\"\\n\\nIt\\'s a change from Bush\\'s approach to this point. He hasn\\'t lobbed many direct attacks at Trump other than delicately condemning his criticism of Arizona Sen. John McCain\\'s war service and his attacks against Fox News\\' Megyn Kelly.\\n\\nEven in this month\\'s first debate, Bush swatted down a story that he had allegedly called Trump a \"buffoon\" and a \"clown,\" saying only that Trump\\'s language had been \"divisive.\" Trump called Bush \"a true gentleman.\"\\n\\nThe detente ended this week. So far, most of the top-tier candidates have avoided directly attacking Trump, treating him with kid gloves so as not to anger the part of the GOP base to which Trump appeals.\\n\\nIn other words, the very voters they need when, they hope, Trump fades.\\n\\nIn split-screen New Hampshire town halls this week, Bush and Trump volleyed attacks on each other. Bush took his most pointed jabs at the current front-runner, underscoring Trump\\'s past history as a Democrat and the liberal positions he used to hold.\\n\\n\"Mr. Trump doesn\\'t have a proven conservative record,\" Bush said, according to the Washington Post. \"He was a Democrat longer in the last decade than he was a Republican. He has given more money to Democrats than he\\'s given to Republicans.\"\\n\\nBush went on to attack Trump over his hard-line immigration proposal, arguing it was not just \"vitriolic\" but would have a massive price tag.\\n\\n\"Hundreds of billions of dollars of costs to implement his plans is not a conservative plan,\" Bush said. \"This is going to be my pitch: Let\\'s support someone who you don\\'t have to guess where he stands because he\\'s consistent, because he\\'s been governor, he\\'s consistently had the views that he has.\"\\n\\nOver the next few days, Bush continued the hits on social media.\\n\\nBut Trump, never one to miss a moment to retaliate, didn\\'t pull his punches, either. At his own town hall Wednesday, Trump blasted Bush as an unelectable \"low-energy person.\"\\n\\n\"You know what\\'s happening to Jeb\\'s crowd just down the street? They\\'re sleeping!\" Trump said to applause.\\n\\nSince then, Trump has also ramped up his attacks against Bush on Twitter.\\n\\nThe move to more hot rhetoric may have tripped Bush up, though. Consider his use of the phrase \"anchor babies.\" While immigration reform is something Bush is passionate about — and has even written a book about — he\\'s often criticized within the GOP as too liberal on the issue. Instead, a more combative Bush appeared to use the loaded phrase for the first time.\\n\\nHe was left struggling to defend his use of it. It may have been a signal that the attack-dog crouch he\\'s taking is still one that isn\\'t completely comfortable to Bush, who earlier said he wanted to campaign \"joyfully.\"\\n\\nOther candidates have embraced hitting Trump. Kentucky Sen. Rand Paul went after him forcefully in the debate, though his punch — that Trump was hedging his bets to support Hillary Clinton if she wins the presidency — didn\\'t appear to land.\\n\\nOther candidates like Ohio Gov. John Kasich demurred. In the earlier GOP debate that night, former Texas Gov. Rick Perry and businesswoman Carly Fiorina also jabbed at Trump.\\n\\nBush, though, needs to close the floodgates. He\\'s dropped in national polls as Trump has risen. And, in New Hampshire, where Bush once led, Trump and even newcomer Kasich have seen surges.\\n\\nCullen, a former New Hampshire GOP chairman, said the change in tone and tactics was a smart move for Bush, one that could help him in the Granite State.\\n\\n\"I think it\\'s good politics for Jeb,\" said Fergus Cullen, a former New Hampshire Republican Party chairman. \"There\\'s 25 percent of the Republicans who are entertained by Donald Trump. But there\\'s 60 percent of the party who say they won\\'t vote for him under any circumstances. Those aren\\'t Jeb Bush\\'s people to begin with. He\\'s trying to appeal to the other 60 percent by being the adult in the room and trying to govern.\"\\n\\nO\\'Connell agreed. He pointed out that even if this new approach is one that\\'s uncomfortable for Bush, it\\'s necessary.\\n\\n\"In a lot of elections, being the studious one would have worked,\" he said, \"but Trump has flipped the script.\"']\n"
     ]
    }
   ],
   "source": [
    "print(X)"
   ]
  },
  {
   "cell_type": "code",
   "execution_count": 15,
   "id": "26692643",
   "metadata": {},
   "outputs": [
    {
     "name": "stdout",
     "output_type": "stream",
     "text": [
      "['FAKE' 'FAKE' 'REAL' ... 'FAKE' 'REAL' 'REAL']\n"
     ]
    }
   ],
   "source": [
    "print(Y)"
   ]
  },
  {
   "cell_type": "code",
   "execution_count": 16,
   "id": "64a9a151",
   "metadata": {},
   "outputs": [
    {
     "data": {
      "text/plain": [
       "(6335,)"
      ]
     },
     "execution_count": 16,
     "metadata": {},
     "output_type": "execute_result"
    }
   ],
   "source": [
    "Y.shape"
   ]
  },
  {
   "cell_type": "code",
   "execution_count": 17,
   "id": "61d20cc3",
   "metadata": {},
   "outputs": [],
   "source": [
    "vectorizer = TfidfVectorizer(max_features=61713, ngram_range=(1, 3))\n",
    "vectorizer.fit(X)\n",
    "\n",
    "X1 = vectorizer.transform(X)"
   ]
  },
  {
   "cell_type": "code",
   "execution_count": 18,
   "id": "fd5ee7cf",
   "metadata": {},
   "outputs": [
    {
     "name": "stdout",
     "output_type": "stream",
     "text": [
      "['You Can Smell Hillary’s Fear Daniel Greenfield, a Shillman Journalism Fellow at the Freedom Center, is a New York writer focusing on radical Islam. \\nIn the final stretch of the election, Hillary Rodham Clinton has gone to war with the FBI. \\nThe word “unprecedented” has been thrown around so often this election that it ought to be retired. But it’s still unprecedented for the nominee of a major political party to go war with the FBI. \\nBut that’s exactly what Hillary and her people have done. Coma patients just waking up now and watching an hour of CNN from their hospital beds would assume that FBI Director James Comey is Hillary’s opponent in this election. \\nThe FBI is under attack by everyone from Obama to CNN. Hillary’s people have circulated a letter attacking Comey. There are currently more media hit pieces lambasting him than targeting Trump. It wouldn’t be too surprising if the Clintons or their allies were to start running attack ads against the FBI. \\nThe FBI’s leadership is being warned that the entire left-wing establishment will form a lynch mob if they continue going after Hillary. And the FBI’s credibility is being attacked by the media and the Democrats to preemptively head off the results of the investigation of the Clinton Foundation and Hillary Clinton. \\nThe covert struggle between FBI agents and Obama’s DOJ people has gone explosively public. \\nThe New York Times has compared Comey to J. Edgar Hoover. Its bizarre headline, “James Comey Role Recalls Hoover’s FBI, Fairly or Not” practically admits up front that it’s spouting nonsense. The Boston Globe has published a column calling for Comey’s resignation. Not to be outdone, Time has an editorial claiming that the scandal is really an attack on all women. \\nJames Carville appeared on MSNBC to remind everyone that he was still alive and insane. He accused Comey of coordinating with House Republicans and the KGB. And you thought the “vast right wing conspiracy” was a stretch. \\nCountless media stories charge Comey with violating procedure. Do you know what’s a procedural violation? Emailing classified information stored on your bathroom server. \\nSenator Harry Reid has sent Comey a letter accusing him of violating the Hatch Act. The Hatch Act is a nice idea that has as much relevance in the age of Obama as the Tenth Amendment. But the cable news spectrum quickly filled with media hacks glancing at the Wikipedia article on the Hatch Act under the table while accusing the FBI director of one of the most awkward conspiracies against Hillary ever. \\nIf James Comey is really out to hurt Hillary, he picked one hell of a strange way to do it. \\nNot too long ago Democrats were breathing a sigh of relief when he gave Hillary Clinton a pass in a prominent public statement. If he really were out to elect Trump by keeping the email scandal going, why did he trash the investigation? Was he on the payroll of House Republicans and the KGB back then and playing it coy or was it a sudden development where Vladimir Putin and Paul Ryan talked him into taking a look at Anthony Weiner’s computer? \\nEither Comey is the most cunning FBI director that ever lived or he’s just awkwardly trying to navigate a political mess that has trapped him between a DOJ leadership whose political futures are tied to Hillary’s victory and his own bureau whose apolitical agents just want to be allowed to do their jobs. \\nThe only truly mysterious thing is why Hillary and her associates decided to go to war with a respected Federal agency. Most Americans like the FBI while Hillary Clinton enjoys a 60% unfavorable rating. \\nAnd it’s an interesting question. \\nHillary’s old strategy was to lie and deny that the FBI even had a criminal investigation underway. Instead her associates insisted that it was a security review. The FBI corrected her and she shrugged it off. But the old breezy denial approach has given way to a savage assault on the FBI. \\nPretending that nothing was wrong was a bad strategy, but it was a better one that picking a fight with the FBI while lunatic Clinton associates try to claim that the FBI is really the KGB. \\nThere are two possible explanations. \\nHillary Clinton might be arrogant enough to lash out at the FBI now that she believes that victory is near. The same kind of hubris that led her to plan her victory fireworks display could lead her to declare a war on the FBI for irritating her during the final miles of her campaign. \\nBut the other explanation is that her people panicked. \\nGoing to war with the FBI is not the behavior of a smart and focused presidential campaign. It’s an act of desperation. When a presidential candidate decides that her only option is to try and destroy the credibility of the FBI, that’s not hubris, it’s fear of what the FBI might be about to reveal about her. \\nDuring the original FBI investigation, Hillary Clinton was confident that she could ride it out. And she had good reason for believing that. But that Hillary Clinton is gone. In her place is a paranoid wreck. Within a short space of time the “positive” Clinton campaign promising to unite the country has been replaced by a desperate and flailing operation that has focused all its energy on fighting the FBI. \\nThere’s only one reason for such bizarre behavior. \\nThe Clinton campaign has decided that an FBI investigation of the latest batch of emails poses a threat to its survival. And so it’s gone all in on fighting the FBI. It’s an unprecedented step born of fear. It’s hard to know whether that fear is justified. But the existence of that fear already tells us a whole lot. \\nClinton loyalists rigged the old investigation. They knew the outcome ahead of time as well as they knew the debate questions. Now suddenly they are no longer in control. And they are afraid. \\nYou can smell the fear. \\nThe FBI has wiretaps from the investigation of the Clinton Foundation. It’s finding new emails all the time. And Clintonworld panicked. The spinmeisters of Clintonworld have claimed that the email scandal is just so much smoke without fire. All that’s here is the appearance of impropriety without any of the substance. But this isn’t how you react to smoke. It’s how you respond to a fire. \\nThe misguided assault on the FBI tells us that Hillary Clinton and her allies are afraid of a revelation bigger than the fundamental illegality of her email setup. The email setup was a preemptive cover up. The Clinton campaign has panicked badly out of the belief, right or wrong, that whatever crime the illegal setup was meant to cover up is at risk of being exposed. \\nThe Clintons have weathered countless scandals over the years. Whatever they are protecting this time around is bigger than the usual corruption, bribery, sexual assaults and abuses of power that have followed them around throughout the years. This is bigger and more damaging than any of the allegations that have already come out. And they don’t want FBI investigators anywhere near it. \\nThe campaign against Comey is pure intimidation. It’s also a warning. Any senior FBI people who value their careers are being warned to stay away. The Democrats are closing ranks around their nominee against the FBI. It’s an ugly and unprecedented scene. It may also be their last stand. \\nHillary Clinton has awkwardly wound her way through numerous scandals in just this election cycle. But she’s never shown fear or desperation before. Now that has changed. Whatever she is afraid of, it lies buried in her emails with Huma Abedin. And it can bring her down like nothing else has.  '\n",
      " 'Watch The Exact Moment Paul Ryan Committed Political Suicide At A Trump Rally (VIDEO) Google Pinterest Digg Linkedin Reddit Stumbleupon Print Delicious Pocket Tumblr \\nThere are two fundamental truths in this world: Paul Ryan desperately wants to be president. And Paul Ryan will never be president. Today proved it. \\nIn a particularly staggering example of political cowardice, Paul Ryan re-re-re-reversed course and announced that he was back on the Trump Train after all. This was an aboutface from where he was a few weeks ago. He had previously declared he would not be supporting or defending Trump after a tape was made public in which Trump bragged about assaulting women. Suddenly, Ryan was appearing at a pro-Trump rally and boldly declaring that he already sent in his vote to make him President of the United States. It was a surreal moment. The figurehead of the Republican Party dosed himself in gasoline, got up on a stage on a chilly afternoon in Wisconsin, and lit a match. . @SpeakerRyan says he voted for @realDonaldTrump : “Republicans, it is time to come home” https://t.co/VyTT49YvoE pic.twitter.com/wCvSCg4a5I \\n— ABC News Politics (@ABCPolitics) November 5, 2016 \\nThe Democratic Party couldn’t have asked for a better moment of film. Ryan’s chances of ever becoming president went down to zero in an instant. In the wreckage Trump is to leave behind in his wake, those who cravenly backed his campaign will not recover. If Ryan’s career manages to limp all the way to 2020, then the DNC will have this tape locked and loaded to be used in every ad until Election Day. \\nThe ringing endorsement of the man he clearly hates on a personal level speaks volumes about his own spinelessness. Ryan has postured himself as a “principled” conservative, and one uncomfortable with Trump’s unapologetic bigotry and sexism. However, when push came to shove, Paul Ryan – like many of his colleagues – turned into a sniveling appeaser. After all his lofty tak about conviction, his principles were a house of cards and collapsed with the slightest breeze. \\nWhat’s especially bizarre is how close Ryan came to making it through unscathed. For months the Speaker of the House refused to comment on Trump at all. His strategy seemed to be to keep his head down, pretend Trump didn’t exist, and hope that nobody remembered what happened in 2016. Now, just days away from the election, he screwed it all up. \\nIf 2016’s very ugly election has done any good it’s by exposing the utter cowardice of the Republicans who once feigned moral courage. A reality television star spit on them, hijacked their party, insulted their wives, and got every last one of them to kneel before him. What a turn of events. \\nFeatured image via Twitter'\n",
      " 'Kerry to go to Paris in gesture of sympathy U.S. Secretary of State John F. Kerry said Monday that he will stop in Paris later this week, amid criticism that no top American officials attended Sunday’s unity march against terrorism.\\n\\nKerry said he expects to arrive in Paris Thursday evening, as he heads home after a week abroad. He said he will fly to France at the conclusion of a series of meetings scheduled for Thursday in Sofia, Bulgaria. He plans to meet the next day with Foreign Minister Laurent Fabius and President Francois Hollande, then return to Washington.\\n\\nThe visit by Kerry, who has family and childhood ties to the country and speaks fluent French, could address some of the criticism that the United States snubbed France in its darkest hour in many years.\\n\\nThe French press on Monday was filled with questions about why neither President Obama nor Kerry attended Sunday’s march, as about 40 leaders of other nations did. Obama was said to have stayed away because his own security needs can be taxing on a country, and Kerry had prior commitments.\\n\\nAmong roughly 40 leaders who did attend was Israeli Prime Minister Benjamin Netanyahu, no stranger to intense security, who marched beside Hollande through the city streets. The highest ranking U.S. officials attending the march were Jane Hartley, the ambassador to France, and Victoria Nuland, the assistant secretary of state for European affairs. Attorney General Eric H. Holder Jr. was in Paris for meetings with law enforcement officials but did not participate in the march.\\n\\nKerry spent Sunday at a business summit hosted by India’s prime minister, Narendra Modi. The United States is eager for India to relax stringent laws that function as barriers to foreign investment and hopes Modi’s government will act to open the huge Indian market for more American businesses.\\n\\nIn a news conference, Kerry brushed aside criticism that the United States had not sent a more senior official to Paris as “quibbling a little bit.” He noted that many staffers of the American Embassy in Paris attended the march, including the ambassador. He said he had wanted to be present at the march himself but could not because of his prior commitments in India.\\n\\n“But that is why I am going there on the way home, to make it crystal clear how passionately we feel about the events that have taken place there,” he said.\\n\\n“And I don’t think the people of France have any doubts about America’s understanding of what happened, of our personal sense of loss and our deep commitment to the people of France in this moment of trauma.”'\n",
      " ...\n",
      " \"Anti-Trump Protesters Are Tools of the Oligarchy     : Information  Anti-Trump Protesters Are Tools of the Oligarchy \\x93Reform always provokes rage on the part of those who profit by the old order.\\x94 Arthur M. Schlesinger, Jr., The Crisis of the Old Order\\nBy Paul Craig Roberts\\n Who are the anti-Trump protesters besmirching the name of progressives by pretending to be progressives and by refusing to accept the outcome of the presidential election? They look like, and are acting worse than, the \\x93white trash\\x94 that they are denouncing.\\nI think I know who they are. They are thugs for hire and are paid by the Oligarchy to delegitimize Trump\\x92s presidency in the way that Washington and the German Marshall Fund paid students in Kiev to protest the democratically elected Ukrainian government in order to prepare the way for a coup.\\nThe organization, change.org, which claims to be a progressive group, but might be a front, along with other progressive groups, for the Oligarchy, is destroying the reputation of all progressives by circulating a petition that directs the electors of the Electoral Collage to annul the election by casting their votes for Hillary. Remember how upset progressives were when Trump said he might not accept the election result if there was evidence that the vote was rigged? Now progressives are doing what they damned Trump for saying he might do under certain conditions.\\nThe Western presstitutes used the protests in Kiev to delegitimize a democratically elected government and to set it up for a coup. The protest pay was good enough that non-Ukrainians came from nearby countries to participate in the protest in order to collect the money. At the time I posted the amounts paid daily to protesters. Reports came in to me from Eastern and Western Europe from people who were not Ukrainian but were paid to protest as if they were Ukrainians.\\nThe same thing is going on with the Trump protests. CNN reports that \\x93for many Americans across the country, Donald Trump\\x92s victory is an outcome they simply refuse to accept. Tens of thousands filled the streets in at least 25 US cities overnight.\\x94 This is the exact reporting that the Oligarchy desired from its presstitutes and got.\\nI hope no one thinks that simultaneous protests in 25 cities were a spontaneous event. How did 25 independent protests manage to come up with the same slogans and the same signs on the same night following the election?\\nWhat is the point of the protests, and what interest is served by them? As the Romans always asked, \\x93who benefits?\\x94\\nThere is only one answer: The Oligarchy and only the Oligarchy benefits.\\nTrump is a threat to the Oligarchy, because he intends to stop the giveaway of American jobs to foreigners. The jobs giveaway, sanctified by the neoliberal junk economists as \\x93free trade,\\x94 is one of the main reasons for the 21st century worsening of the US income distribution. Money that was formerly paid in middle class wages and salaries to American manufacturing employees and college graduates has been re-routed to the pockets of the One Percent.\\nWhen US corporations move their production of goods and services sold to Americans offshore to Asian countries, such as China and India, their wage bill falls. The money formerly paid in middle class incomes goes instead into executive bonuses and dividends and capital gains to shareholders. The ladders of upward mobility that had made America the land of opportunity were dismantled for the sole purpose of making a handful of people multi-billionaires.\\nTrump is a threat to the Oligarchy, because he intends peaceful relations with Russia. In order to replace the profitable Soviet Threat, the Oligarchy and their neoconservative agents worked overtime to recreate the \\x93Russian Threat\\x94 by demonizing Russia.\\nAccustomed to many decades of excess profits from the profitable Cold War, the military/security complex was angry when President Reagan brought the Cold War to an end. Before these leaches on American taxpayers could get the Cold War going again, the Soviet Union collapsed as a result of a right-wing coup against Soviet President Mikhail Gorbachev.\\nThe military/security complex and their zionist neoconservative agents cooked up \\x93the war on terror\\x94 to keep the money flowing to the One Percent. But as hard as the presstitute media worked to create fear of \\x93the Muslim threat,\\x94 even insouciant Americans knew that the Muslims did not have thousands of ICBMs carrying powerful thermo-nuclear weapons capable of destroying the entirety of the United States in a few minutes. Neither did the Muslims have the Red Army capable of overrunning all of Europe in a couple of days. Indeed, the Muslims haven\\x92t needed an army. Refugees from Washington\\x92s wars enabled by Europeans are overrunning Europe.\\nThe excuse for the annual trillion dollar ($1,000 billion ) military/security budget was missing. So the Oligarchy created \\x93the New Hitler\\x94 in Russia. Hillary was the Oligarchy\\x92s principle agent for heating up the new Cold War.\\nHillary is the tool, enriched by the Oligarchy, whose job as President was to protect and to increase the trillion dollar budget of the military/security complex. With Hillary in the White House, the looting of the American taxpayers in behalf of the wealth of the One Percent could go forward unimpeded. But if Trump resolves \\x93the Russian threat,\\x94 the Oligarchy takes an income hit.\\nHillary\\x92s job as President was also to privatize Social Security in order that her Wall Street benefactors can rip off Americans the way that Americans have been ripped off by the insurance companies under Obamacare.\\nThose Americans who do not pay attention think, mistakenly, that the FBI cleared Hillary of violating National Security protocols with her email practices. The FBI said that Hillary did violate National Security, but that it was a result of carelessness or ignorance. She got off from indictment, because the FBI concluded that she did not intentionally violate National Security protocols. The investigation of the Clinton Foundation continues.\\nIn other words, in order to protect Hillary the FBI fell back on the ancient common law rule that \\x93there can be no crime without intent.\\x94 (See PCR and Lawrence Stratton, The Tyranny of Good Intentions .)\\nOne would think that protesters, if they were legitimate, would be celebrating Trump\\x92s victory. He, unlike Hillary, promises to reduce tensions with powerful Russia, and we hope also with China. Unlike Hillary, Trump says he is concerned with the absence of careers for those very people protesting in the streets of 25 cities against him.\\nIn other words, the protests against the American people for electing Trump as their president are pointless. The protests are happening for one reason only. The Oligarchy intends to delegitimize the Trump Presidency. Once President Trump is delegitimized, it will be easier for the Oligarchy to assassinate him. Unless the Oligarchy can appoint and control Trump\\x92s government, Trump is a prime candidate for assassination.\\nThe protests against Trump are suspicious for another reason. Unlike Hillary, Obama, and George W. Bush, Donald Trump has not slaughtered and dislocated millions of peoples in seven countries, sending millions of refugees from the Oligarchy\\x92s wars to overrun Europe.\\nTrump earned his fortune, and if by hook or crook, not by selling US government influence to foreign agents as Bill and Hillary did.\\nSo what are the protesters protesting?\\nThere is no answer except that they are hired to protest. Just as the Maidan protesters in Kiev were hired to protest by US and German financed NGOs.\\nThe protests in Kiev were equally pointless, because presidential elections were only months away. If Ukrainians really believed that their president was conspiring with Russia to keep Ukraine from becoming a Western puppet state and wished to become a puppet state regardless of the costs, the opportunity to vote the government out was at hand. The only reason for the protests was to orchestrate a coup. The US did succeed in putting their agent in control of the new Ukrainian government as Victoria Nuland and the US ambassador in Kiev confirmed in their telephone conversation that is available on the Internet.\\nThe Maidan protests were pointless except for making a coup possible. The protests were without any doubt arranged by Washington through Assistant Secretary of State Victoria Nuland, a neoconservative brought into the State Department by Hillary Clinton for the purpose of creating conflict with Russia.\\nTrump is being protested in order to make him vulnerable in the event he proves to be the threat to the Oligarchy that he is thought to be.\\nTrump won the presidency, but the Oligarchy is still in power, which makes any real reforms difficult to achieve. Symbolic reforms can be the product of the contest between President Trump and the oligarchs.\\nKarl Marx learned from historical experience, and Lenin, Stalin, and Pol Pot learned from Karl Marx, that change cannot occur if the displaced ruling class is left intact after a revolution against them. We have proof of this throughout South America. Every revolution by the indigenous people has left unmolested the Spanish ruling class, and every revolution has been overthrown by collusion between the ruling class and Washington.\\nWashington has conspired with traditional elites to remove the elected presidents of Honduras on a number of occasions. Recently, Washington helped elites evict the female presidents of Argentina and Brazil. The presidents of Venezuela, Ecuador, and Bolivia are in the crosshairs and are unlikely to survive. Washington is determined to get its hands on Julian Assange. To achieve this Washington intends to overthrow the Ecuadoran government that, in defiance of Washington, gave Julian Assange political asylum.\\nHugo Chavez had the power to exile or to exterminate the Spanish ruling class in Venezuela when the ruling class participated in a CIA coup against Chavez. But before the CIA could kill Chavez, the people and the military forced his release. Instead of punishing the criminals who would have murdered him, Chavez let them go.\\nAccording to Marx, Lenin, and Stalin, this is the classic mistake of the revolutionary. To rely on good will from the overthrown ruling class is the certain road to the defeat of the revolution.\\nLatin American has proved itself unable to learn this lesson: Revolutions cannot be conciliatory.\\nTrump is a dealmaker. The Oligarchy can permit him the sheen of success in exchange for no real change.\\nTrump is not perfect. He might fail on his own. But we should back him on the two most important elements in his program: to reduce tensions between the major nuclear powers, and to halt Washington\\x92s policy of permitting globalism to destroy Americans\\x92 economic prospects.\\nIf tensions between nuclear powers worsen, we won\\x92t be here to worry about other problems. The combination of the economy hollowed out by globalism and immigration is an economic nightmare. That Trump understands this is reason to support him.\\nNote: Some believe that Trump is a ruse conducted by the Oligarchy. However, as Hillary is the bought-and-paid-for representative of the Oligarchy, such an elaborate ruse is unnecessary. It is preferable for the Oligarchy to win on its own platform than to install a president on the opposite platform and then change him around. Another sellout increases the anger of the people. If Hillary had won, the Oligarchy would have had the voters\\x92 mandate for their platform.\\nDr. Paul Craig Roberts was Assistant Secretary of the Treasury for Economic Policy and associate editor of the Wall Street Journal. He was columnist for Business Week, Scripps Howard News Service, and Creators Syndicate. He has had many university appointments. His internet columns have attracted a worldwide following. Roberts' latest books are The Failure of Laissez Faire Capitalism and Economic Dissolution of the West , How America Was Lost , and The Neoconservative Threat to World Order .\"\n",
      " 'In Ethiopia, Obama seeks progress on peace, security in East Africa ADDIS ABABA, Ethiopia —President Obama convened a meeting with the leaders of several East African nations and the African Union on Monday in an effort to address the worsening situation in South Sudan, even as he met with Ethiopia’s prime minister to discuss how to strengthen human rights and democratic institutions here.\\n\\nWith no resolution in sight for the ongoing conflict in South Sudan, Obama brought together top officials from Ethiopia, Uganda, Kenya, Sudan and the A.U. to chart out a strategy in the event that the latest round of peace talks fail.\\n\\nAfrican nations, led by Ethiopia, have been trying to broker a peace in South Sudan through the Intergovernmental Authority on Development (IGAD), a regional body, and are almost ready to present a possible compromise to the warring parties. The two sides will have until Aug. 17 to respond to the proposal, but administration officials have little expectation that they will accept it.\\n\\nOn Monday, Obama praised the regional leaders for showing “extraordinary leadership in trying to address the continuing situation in South Sudan.” The group included Ethiopian Prime Minister Hailemariam Desalegn, Ugandan President Yoweri Museveni, Kenyan President Uhuru Kenyatta, African Union Chairperson Dlamini Zuma and Sudan’s minister of foreign affairs, Ibrahim Ghandour.\\n\\n“This gives me and the U.S. delegation an opportunity to learn from them what progress has been made, where there appears to be continued roadblocks and how we can partner with them to make progress,” Obama said. “Our hope is that we can actually bring about the kind of peace that the people of South Sudan so desperately need.”\\n\\nThe question of South Sudan — a nation that the United States helped bring into existence in 2011 after years of effort by both the George W. Bush and Obama administrations — has vexed American policymakers for years.\\n\\nIn December 2013, South Sudan President Salva Kiir accused Riek Machar, who had served as his vice president, of attempting a coup d’etat. The two had been longtime political rivals from different ethnic groups — Kiir is Dinka, Machar is a Nuer — who had come together to form a government when the country was first created.\\n\\nWhile tribal differences have helped fuel the conflict, the war has been largely focused on control of the nation’s oil fields, South Sudan’s primary source of revenue.\\n\\nPrinceton Lyman, U.S. special envoy for Sudan and South Sudan from 2011 to 2013, noted that when he first took over as envoy, the United States had spent $10 billion on peacekeeping and other assistance for the two nations, “and that was four years ago… This is a big investment,” he added.\\n\\nAt this point, more than 2.5 million people are facing food shortages, while roughly 1.5 million are displaced from their homes. An additional 520,000 South Sudanese have fled across the border into neighboring countries, including Ethiopia.\\n\\nThe conflict also poses a major economic problem for Kenya, which had major investments in South Sudan before the fighting broke out. The LAPSSET Corridor project was aimed at transporting oil from South Sudan to the Kenyan port of Lamu, and according to E.J. Hogendoorn, deputy program director for Africa at the International Crisis Group, the planned transportation and infrastructure development could have been an “engine of development\" for many parts of East Africa. \"Unfortunately, of course, that’s on hold because of the war,” he said.\\n\\nWhile Obama spent part of the afternoon addressing a regional conflict in Africa, he devoted the rest of the day to strengthening ties with Ethiopia, whose alliance with the United States dates back more than a century. But the current government has come under sharp criticism for its treatment of political opponents and journalists.\\n\\nObama is the first sitting U.S. president to visit Ethiopia.\\n\\nIn a news conference Monday afternoon, both Obama and Hailemariam said they had a frank discussion about Ethiopia\\'s human rights practices and the need for improvement. Ethiopia is Africa’s number two jailer of journalists, according to the Committee to Protect Journalists, and its ruling party won 100 percent of the seats in May’s parliamentary elections.\\n\\nWhite House national security adviser Susan Rice, asked last week whether she considered Ethiopia a democracy, replied, with irony: “One hundred percent.”\\n\\nBut during the news conference Obama twice referred to the Ethiopian government as “democratically elected.”\\n\\n“I don’t bite my tongue,” Obama said of raising concerns on these issues with Ethiopia. “But I do so from a position of respect.”\\n\\nHailemariam, for his part, said, “Our commitment to democracy is real, not skin deep.”\\n\\nBut he added later that people could not expect sweeping reforms given the fact that military rule ended just a couple of decades ago. “Something has to be understood: This is a fledgling democracy.”\\n\\nThe two leaders also discussed their collaboration on counterterrorism, an area in which Ethiopia has been an active leader. The White House announced Monday it will “work with Congress to provide approximately $465 million” this year in new training, equipment and capacity-building aid to its African allies.\\n\\nThe administration also said it would provide at least $40 million in assistance this fiscal year to combat violent extremism in East Africa. The money is intended to foster collaboration among security forces, law enforcement, government officials, community leaders and members of civil society, officials said.\\n\\nObama praised Ethiopia’s work to curb extremist activity but noted that its government had labeled some opposition groups as posing a greater threat than U.S. intelligence would indicate. “Our intelligence indicates while they may oppose the government, they have not tipped into terrorism,” he said.\\n\\nThe United States provides more than $600 million in\\xa0assistance to Ethiopia annually. The vast bulk of that — $490 million — comes from the U.S. Agency for International Development, while the rest is largely security-related. Last fiscal year, nearly $200 million went to health programs, while $163 million went to humanitarian aid.\\n\\nObama said Ethiopia “has proven itself a global leader” on development and over the past 15 years “has lifted millions of people out of poverty.”\\n\\n“To many people around the world, their image of Ethiopia remains stuck in the past, remembering drought and famine,” he said.\\n\\nThe two leaders appeared to have a friendly rapport throughout the news conference. Hailemariam described his country as scoring a series of firsts: Along with being “the cradle of mankind,” he said, “Ethiopia is the birthplace of coffee.” That elicited a smile from Obama.\\n\\nObama said he was impressed by the Ethiopian’s unusual pets. “I had a chance to see the famous lions that live on the grounds,\" he said. \"I’m considering getting some for the White House.” But he conceded that before he did that, “I’ll have to make sure my dogs are safe.”'\n",
      " 'Jeb Bush Is Suddenly Attacking Trump. Here\\'s Why That Matters Jeb Bush Is Suddenly Attacking Trump. Here\\'s Why That Matters\\n\\nJeb Bush isn\\'t pulling punches anymore when it comes to Donald Trump.\\n\\nThe former Florida governor has delicately danced around the billionaire businessman in the 2016 presidential primary so far. But the gloves came off this week when Bush called out Trump as a closet Democrat. He was trying to stunt Trump\\'s rise while attempting to recover his own political mojo.\\n\\n\"What Jeb is desperately trying to do is find his swagger right now,\" GOP strategist Ford O\\'Connell said. \"The knock against Jeb is that he\\'s low voltage and not willing to fight. The best way to shake those perceptions it to engage against the person who is in the media on a 24/7 loop.\"\\n\\nIt\\'s a change from Bush\\'s approach to this point. He hasn\\'t lobbed many direct attacks at Trump other than delicately condemning his criticism of Arizona Sen. John McCain\\'s war service and his attacks against Fox News\\' Megyn Kelly.\\n\\nEven in this month\\'s first debate, Bush swatted down a story that he had allegedly called Trump a \"buffoon\" and a \"clown,\" saying only that Trump\\'s language had been \"divisive.\" Trump called Bush \"a true gentleman.\"\\n\\nThe detente ended this week. So far, most of the top-tier candidates have avoided directly attacking Trump, treating him with kid gloves so as not to anger the part of the GOP base to which Trump appeals.\\n\\nIn other words, the very voters they need when, they hope, Trump fades.\\n\\nIn split-screen New Hampshire town halls this week, Bush and Trump volleyed attacks on each other. Bush took his most pointed jabs at the current front-runner, underscoring Trump\\'s past history as a Democrat and the liberal positions he used to hold.\\n\\n\"Mr. Trump doesn\\'t have a proven conservative record,\" Bush said, according to the Washington Post. \"He was a Democrat longer in the last decade than he was a Republican. He has given more money to Democrats than he\\'s given to Republicans.\"\\n\\nBush went on to attack Trump over his hard-line immigration proposal, arguing it was not just \"vitriolic\" but would have a massive price tag.\\n\\n\"Hundreds of billions of dollars of costs to implement his plans is not a conservative plan,\" Bush said. \"This is going to be my pitch: Let\\'s support someone who you don\\'t have to guess where he stands because he\\'s consistent, because he\\'s been governor, he\\'s consistently had the views that he has.\"\\n\\nOver the next few days, Bush continued the hits on social media.\\n\\nBut Trump, never one to miss a moment to retaliate, didn\\'t pull his punches, either. At his own town hall Wednesday, Trump blasted Bush as an unelectable \"low-energy person.\"\\n\\n\"You know what\\'s happening to Jeb\\'s crowd just down the street? They\\'re sleeping!\" Trump said to applause.\\n\\nSince then, Trump has also ramped up his attacks against Bush on Twitter.\\n\\nThe move to more hot rhetoric may have tripped Bush up, though. Consider his use of the phrase \"anchor babies.\" While immigration reform is something Bush is passionate about — and has even written a book about — he\\'s often criticized within the GOP as too liberal on the issue. Instead, a more combative Bush appeared to use the loaded phrase for the first time.\\n\\nHe was left struggling to defend his use of it. It may have been a signal that the attack-dog crouch he\\'s taking is still one that isn\\'t completely comfortable to Bush, who earlier said he wanted to campaign \"joyfully.\"\\n\\nOther candidates have embraced hitting Trump. Kentucky Sen. Rand Paul went after him forcefully in the debate, though his punch — that Trump was hedging his bets to support Hillary Clinton if she wins the presidency — didn\\'t appear to land.\\n\\nOther candidates like Ohio Gov. John Kasich demurred. In the earlier GOP debate that night, former Texas Gov. Rick Perry and businesswoman Carly Fiorina also jabbed at Trump.\\n\\nBush, though, needs to close the floodgates. He\\'s dropped in national polls as Trump has risen. And, in New Hampshire, where Bush once led, Trump and even newcomer Kasich have seen surges.\\n\\nCullen, a former New Hampshire GOP chairman, said the change in tone and tactics was a smart move for Bush, one that could help him in the Granite State.\\n\\n\"I think it\\'s good politics for Jeb,\" said Fergus Cullen, a former New Hampshire Republican Party chairman. \"There\\'s 25 percent of the Republicans who are entertained by Donald Trump. But there\\'s 60 percent of the party who say they won\\'t vote for him under any circumstances. Those aren\\'t Jeb Bush\\'s people to begin with. He\\'s trying to appeal to the other 60 percent by being the adult in the room and trying to govern.\"\\n\\nO\\'Connell agreed. He pointed out that even if this new approach is one that\\'s uncomfortable for Bush, it\\'s necessary.\\n\\n\"In a lot of elections, being the studious one would have worked,\" he said, \"but Trump has flipped the script.\"']\n"
     ]
    }
   ],
   "source": [
    "print(X)"
   ]
  },
  {
   "cell_type": "code",
   "execution_count": 19,
   "id": "f9cb91bc",
   "metadata": {},
   "outputs": [],
   "source": [
    "#Vamos dividir o dataset em train e test\n",
    "X_train, X_test, Y_train, Y_test = train_test_split(X1, Y, test_size = 0.2, stratify=Y, random_state=2)"
   ]
  },
  {
   "cell_type": "code",
   "execution_count": 20,
   "id": "485fdf60",
   "metadata": {},
   "outputs": [],
   "source": [
    "#o modelo de previsão utilizado será o LogisticRegression\n",
    "model = LogisticRegression()"
   ]
  },
  {
   "cell_type": "code",
   "execution_count": 21,
   "id": "60d46747",
   "metadata": {},
   "outputs": [
    {
     "data": {
      "text/plain": [
       "LogisticRegression()"
      ]
     },
     "execution_count": 21,
     "metadata": {},
     "output_type": "execute_result"
    }
   ],
   "source": [
    "model.fit(X_train, Y_train)"
   ]
  },
  {
   "cell_type": "code",
   "execution_count": 22,
   "id": "f0e5202e",
   "metadata": {},
   "outputs": [
    {
     "data": {
      "text/plain": [
       "<5068x61713 sparse matrix of type '<class 'numpy.float64'>'\n",
       "\twith 3565446 stored elements in Compressed Sparse Row format>"
      ]
     },
     "execution_count": 22,
     "metadata": {},
     "output_type": "execute_result"
    }
   ],
   "source": [
    "X_train"
   ]
  },
  {
   "cell_type": "code",
   "execution_count": 23,
   "id": "b09138de",
   "metadata": {},
   "outputs": [],
   "source": [
    "# Vamos observar a acurácia do modelo\n",
    "X_train_prediction = model.predict(X_train)\n",
    "training_data_accuracy = accuracy_score(X_train_prediction, Y_train)"
   ]
  },
  {
   "cell_type": "code",
   "execution_count": 24,
   "id": "01a2035f",
   "metadata": {},
   "outputs": [
    {
     "name": "stdout",
     "output_type": "stream",
     "text": [
      "Pontuação da acurácia no dataset de treino :  0.9593528018942383\n"
     ]
    }
   ],
   "source": [
    "#98% de acurácia, perfeito\n",
    "print('Pontuação da acurácia no dataset de treino : ', training_data_accuracy)"
   ]
  },
  {
   "cell_type": "code",
   "execution_count": 25,
   "id": "21626a5d",
   "metadata": {},
   "outputs": [],
   "source": [
    "# agora a acurácia no data set de test\n",
    "X_test_prediction = model.predict(X_test)\n",
    "test_data_accuracy = accuracy_score(X_test_prediction, Y_test)# accuracy score on the test data\n",
    "X_test_prediction = model.predict(X_test)\n",
    "test_data_accuracy = accuracy_score(X_test_prediction, Y_test)"
   ]
  },
  {
   "cell_type": "code",
   "execution_count": 26,
   "id": "3f54c467",
   "metadata": {},
   "outputs": [
    {
     "name": "stdout",
     "output_type": "stream",
     "text": [
      "Pontuação da acurácia no dataset de teste :  0.9187056037884768\n"
     ]
    }
   ],
   "source": [
    "#97% o que indica que o modelo está funcionando muito bem\n",
    "print('Pontuação da acurácia no dataset de teste : ', test_data_accuracy)"
   ]
  },
  {
   "cell_type": "code",
   "execution_count": 27,
   "id": "06931610",
   "metadata": {},
   "outputs": [
    {
     "data": {
      "text/plain": [
       "KNeighborsClassifier(n_neighbors=3)"
      ]
     },
     "execution_count": 27,
     "metadata": {},
     "output_type": "execute_result"
    }
   ],
   "source": [
    "\n",
    "#Modelo 2\n",
    "from sklearn.neighbors import KNeighborsClassifier\n",
    "neigh = KNeighborsClassifier(n_neighbors=3)\n",
    "neigh.fit(X_train, Y_train)"
   ]
  },
  {
   "cell_type": "code",
   "execution_count": 28,
   "id": "d87fbb4e",
   "metadata": {},
   "outputs": [
    {
     "name": "stdout",
     "output_type": "stream",
     "text": [
      "Pontuação da acurácia no dataset de treino :  0.9161404893449092\n"
     ]
    }
   ],
   "source": [
    "x_prediction = neigh.predict(X_train)\n",
    "training_data_accuracy = accuracy_score(x_prediction, Y_train)\n",
    "print('Pontuação da acurácia no dataset de treino : ', training_data_accuracy)"
   ]
  },
  {
   "cell_type": "code",
   "execution_count": 29,
   "id": "3a764a22",
   "metadata": {},
   "outputs": [
    {
     "data": {
      "text/plain": [
       "SVC()"
      ]
     },
     "execution_count": 29,
     "metadata": {},
     "output_type": "execute_result"
    }
   ],
   "source": [
    "#model3\n",
    "from sklearn import svm\n",
    "clf = svm.SVC()\n",
    "clf.fit(X_train, Y_train)\n",
    "\n"
   ]
  },
  {
   "cell_type": "code",
   "execution_count": 30,
   "id": "96586274",
   "metadata": {},
   "outputs": [
    {
     "name": "stdout",
     "output_type": "stream",
     "text": [
      "Pontuação da acurácia no dataset de treino :  0.9986187845303868\n"
     ]
    }
   ],
   "source": [
    "x_prediction = clf.predict(X_train)\n",
    "training_data_accuracy = accuracy_score(x_prediction, Y_train)\n",
    "print('Pontuação da acurácia no dataset de treino : ', training_data_accuracy)"
   ]
  },
  {
   "cell_type": "code",
   "execution_count": 31,
   "id": "d9e618f4",
   "metadata": {},
   "outputs": [
    {
     "name": "stdout",
     "output_type": "stream",
     "text": [
      "['REAL']\n"
     ]
    }
   ],
   "source": [
    "#Dentro do colchete coloca-se o id da notícia 2.\n",
    "X_new = X_test[2]\n",
    "\n",
    "prediction = model.predict(X_new)\n",
    "print(prediction)\n",
    "\n"
   ]
  },
  {
   "cell_type": "code",
   "execution_count": 32,
   "id": "c9055b09",
   "metadata": {},
   "outputs": [
    {
     "name": "stdout",
     "output_type": "stream",
     "text": [
      "FAKE\n"
     ]
    }
   ],
   "source": [
    "#Aqui temos a confirmação que ela é FAKE\n",
    "print(Y_test[2])"
   ]
  },
  {
   "cell_type": "code",
   "execution_count": 33,
   "id": "ad8d8c4b",
   "metadata": {},
   "outputs": [],
   "source": [
    "import pickle \n",
    "pickle.dump(model, open('model_fakenews.pkl', 'wb'))\n",
    "pickle.dump(vectorizer, open('tfid.pkl', 'wb'))"
   ]
  },
  {
   "cell_type": "code",
   "execution_count": 34,
   "id": "0b6a405e",
   "metadata": {},
   "outputs": [
    {
     "data": {
      "text/plain": [
       "array(['REAL'], dtype=object)"
      ]
     },
     "execution_count": 34,
     "metadata": {},
     "output_type": "execute_result"
    }
   ],
   "source": [
    "tra_model = pickle.load(open('model_fakenews.pkl', 'rb'))\n",
    "tra_vect  = pickle.load(open('tfid.pkl', 'rb'))\n",
    "va_pkl = tra_vect.transform([stemmed_content]).toarray()\n",
    "tra_model.predict(va_pkl)"
   ]
  },
  {
   "cell_type": "code",
   "execution_count": null,
   "id": "7aace056",
   "metadata": {},
   "outputs": [],
   "source": [
    "#O modelo utilizado para ser salvo, foi o SVC, porque foi o que apresentou melhor acurácia"
   ]
  }
 ],
 "metadata": {
  "kernelspec": {
   "display_name": "Python 3 (ipykernel)",
   "language": "python",
   "name": "python3"
  },
  "language_info": {
   "codemirror_mode": {
    "name": "ipython",
    "version": 3
   },
   "file_extension": ".py",
   "mimetype": "text/x-python",
   "name": "python",
   "nbconvert_exporter": "python",
   "pygments_lexer": "ipython3",
   "version": "3.9.7"
  }
 },
 "nbformat": 4,
 "nbformat_minor": 5
}
