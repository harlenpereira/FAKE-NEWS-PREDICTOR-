{
 "cells": [
  {
   "cell_type": "code",
   "execution_count": null,
   "id": "7df5103f",
   "metadata": {},
   "outputs": [],
   "source": [
    "import numpy as np\n",
    "import pandas as pd\n",
    "import re\n",
    "from nltk.corpus import stopwords\n",
    "from nltk.stem.porter import PorterStemmer\n",
    "from sklearn.feature_extraction.text import TfidfVectorizer\n",
    "from sklearn.model_selection import train_test_split\n",
    "from sklearn.linear_model import LogisticRegression\n",
    "from sklearn.metrics import accuracy_score\n",
    "\n",
    "from sklearn import datasets, linear_model\n",
    "from sklearn.metrics import mean_squared_error, r2_score"
   ]
  },
  {
   "cell_type": "code",
   "execution_count": null,
   "id": "632588ce",
   "metadata": {},
   "outputs": [],
   "source": [
    "import nltk\n",
    "nltk.download('stopwords')\n",
    "print(stopwords.words('english'))"
   ]
  },
  {
   "cell_type": "code",
   "execution_count": null,
   "id": "b5b640a5",
   "metadata": {},
   "outputs": [],
   "source": [
    "noticias = pd.read_csv('C:/Users/HARLEN/Cientista de dados/TCC/Fakeok/fakeapp3/news.csv')"
   ]
  },
  {
   "cell_type": "code",
   "execution_count": null,
   "id": "adb39acf",
   "metadata": {},
   "outputs": [],
   "source": [
    "noticias.head()"
   ]
  },
  {
   "cell_type": "code",
   "execution_count": null,
   "id": "098dce3e",
   "metadata": {},
   "outputs": [],
   "source": [
    "# Verifica-se a falta de valores no datates\n",
    "noticias.isnull().sum()"
   ]
  },
  {
   "cell_type": "code",
   "execution_count": null,
   "id": "1221f362",
   "metadata": {},
   "outputs": [],
   "source": [
    "# Unindo as manchetes com as notícias\n",
    "noticias['content'] = noticias['title']+' '+noticias['text']"
   ]
  },
  {
   "cell_type": "code",
   "execution_count": null,
   "id": "98914ccc",
   "metadata": {},
   "outputs": [],
   "source": [
    "print(noticias['content'])"
   ]
  },
  {
   "cell_type": "code",
   "execution_count": null,
   "id": "17dd81d2",
   "metadata": {},
   "outputs": [],
   "source": [
    "# separanto o label do dataframe\n",
    "X = noticias.drop(columns='label', axis=1)\n",
    "Y = noticias['label']"
   ]
  },
  {
   "cell_type": "code",
   "execution_count": null,
   "id": "c38ff2d0",
   "metadata": {},
   "outputs": [],
   "source": [
    "print(X)\n",
    "print(Y)"
   ]
  },
  {
   "cell_type": "code",
   "execution_count": null,
   "id": "b4d51bb8",
   "metadata": {},
   "outputs": [],
   "source": [
    "#Stemização, aqui vamos reduzir as palavras ao sua raiz(CASinha, CASona, CASebre = CASa)\n",
    "port_stem = PorterStemmer()\n",
    "corpus = []"
   ]
  },
  {
   "cell_type": "code",
   "execution_count": null,
   "id": "4782ed16",
   "metadata": {},
   "outputs": [],
   "source": [
    "for i in range(0, len(X)):\n",
    "    stemmed_content = re.sub('[^a-zA-Z]',' ',noticias['content'][i])\n",
    "    stemmed_content = stemmed_content.lower()\n",
    "    stemmed_content = stemmed_content.split()\n",
    "    stemmed_content = [port_stem.stem(word) for word in stemmed_content if not word in stopwords.words('english')]\n",
    "    stemmed_content = ' '.join(stemmed_content)\n",
    "    corpus.append(stemmed_content)"
   ]
  },
  {
   "cell_type": "code",
   "execution_count": null,
   "id": "919578e1",
   "metadata": {},
   "outputs": [],
   "source": [
    "print(noticias['content'])"
   ]
  },
  {
   "cell_type": "code",
   "execution_count": null,
   "id": "97984ab2",
   "metadata": {},
   "outputs": [],
   "source": [
    "#separaando as noticias e seus valores falso ou positivo, 1 = fake e 0 = verdadeira\n",
    "X = noticias['content'].values\n",
    "Y = noticias['label'].values"
   ]
  },
  {
   "cell_type": "code",
   "execution_count": null,
   "id": "55924eaf",
   "metadata": {},
   "outputs": [],
   "source": [
    "print(X)"
   ]
  },
  {
   "cell_type": "code",
   "execution_count": null,
   "id": "26692643",
   "metadata": {},
   "outputs": [],
   "source": [
    "print(Y)"
   ]
  },
  {
   "cell_type": "code",
   "execution_count": null,
   "id": "64a9a151",
   "metadata": {},
   "outputs": [],
   "source": [
    "Y.shape"
   ]
  },
  {
   "cell_type": "code",
   "execution_count": null,
   "id": "61d20cc3",
   "metadata": {},
   "outputs": [],
   "source": [
    "vectorizer = TfidfVectorizer(max_features=61713, ngram_range=(1, 3))\n",
    "vectorizer.fit(X)\n",
    "\n",
    "X1 = vectorizer.transform(X)"
   ]
  },
  {
   "cell_type": "code",
   "execution_count": null,
   "id": "fd5ee7cf",
   "metadata": {},
   "outputs": [],
   "source": [
    "print(X)"
   ]
  },
  {
   "cell_type": "code",
   "execution_count": null,
   "id": "f9cb91bc",
   "metadata": {},
   "outputs": [],
   "source": [
    "#Vamos dividir o dataset em train e test\n",
    "X_train, X_test, Y_train, Y_test = train_test_split(X1, Y, test_size = 0.2, stratify=Y, random_state=2)"
   ]
  },
  {
   "cell_type": "code",
   "execution_count": null,
   "id": "485fdf60",
   "metadata": {},
   "outputs": [],
   "source": [
    "#o modelo de previsão utilizado será o LogisticRegression\n",
    "model = LogisticRegression()"
   ]
  },
  {
   "cell_type": "code",
   "execution_count": null,
   "id": "60d46747",
   "metadata": {},
   "outputs": [],
   "source": [
    "model.fit(X_train, Y_train)"
   ]
  },
  {
   "cell_type": "code",
   "execution_count": null,
   "id": "f0e5202e",
   "metadata": {},
   "outputs": [],
   "source": [
    "X_train"
   ]
  },
  {
   "cell_type": "code",
   "execution_count": null,
   "id": "b09138de",
   "metadata": {},
   "outputs": [],
   "source": [
    "# Vamos observar a acurácia do modelo\n",
    "X_train_prediction = model.predict(X_train)\n",
    "training_data_accuracy = accuracy_score(X_train_prediction, Y_train)"
   ]
  },
  {
   "cell_type": "code",
   "execution_count": null,
   "id": "01a2035f",
   "metadata": {},
   "outputs": [],
   "source": [
    "#98% de acurácia, perfeito\n",
    "print('Pontuação da acurácia no dataset de treino : ', training_data_accuracy)"
   ]
  },
  {
   "cell_type": "code",
   "execution_count": null,
   "id": "21626a5d",
   "metadata": {},
   "outputs": [],
   "source": [
    "# agora a acurácia no data set de test\n",
    "X_test_prediction = model.predict(X_test)\n",
    "test_data_accuracy = accuracy_score(X_test_prediction, Y_test)# accuracy score on the test data\n",
    "X_test_prediction = model.predict(X_test)\n",
    "test_data_accuracy = accuracy_score(X_test_prediction, Y_test)"
   ]
  },
  {
   "cell_type": "code",
   "execution_count": null,
   "id": "3f54c467",
   "metadata": {},
   "outputs": [],
   "source": [
    "#97% o que indica que o modelo está funcionando muito bem\n",
    "print('Pontuação da acurácia no dataset de teste : ', test_data_accuracy)"
   ]
  },
  {
   "cell_type": "code",
   "execution_count": null,
   "id": "06931610",
   "metadata": {},
   "outputs": [],
   "source": [
    "\n",
    "#Modelo 2\n",
    "from sklearn.neighbors import KNeighborsClassifier\n",
    "neigh = KNeighborsClassifier(n_neighbors=3)\n",
    "neigh.fit(X_train, Y_train)"
   ]
  },
  {
   "cell_type": "code",
   "execution_count": null,
   "id": "d87fbb4e",
   "metadata": {},
   "outputs": [],
   "source": [
    "x_prediction = neigh.predict(X_train)\n",
    "training_data_accuracy = accuracy_score(x_prediction, Y_train)\n",
    "print('Pontuação da acurácia no dataset de treino : ', training_data_accuracy)"
   ]
  },
  {
   "cell_type": "code",
   "execution_count": null,
   "id": "3a764a22",
   "metadata": {},
   "outputs": [],
   "source": [
    "#model3\n",
    "from sklearn import svm\n",
    "clf = svm.SVC()\n",
    "clf.fit(X_train, Y_train)\n",
    "\n"
   ]
  },
  {
   "cell_type": "code",
   "execution_count": null,
   "id": "96586274",
   "metadata": {},
   "outputs": [],
   "source": [
    "x_prediction = clf.predict(X_train)\n",
    "training_data_accuracy = accuracy_score(x_prediction, Y_train)\n",
    "print('Pontuação da acurácia no dataset de treino : ', training_data_accuracy)"
   ]
  },
  {
   "cell_type": "code",
   "execution_count": null,
   "id": "d9e618f4",
   "metadata": {},
   "outputs": [],
   "source": [
    "#Dentro do colchete coloca-se o id da notícia 2.\n",
    "X_new = X_test[2]\n",
    "\n",
    "prediction = model.predict(X_new)\n",
    "print(prediction)\n",
    "\n"
   ]
  },
  {
   "cell_type": "code",
   "execution_count": null,
   "id": "c9055b09",
   "metadata": {},
   "outputs": [],
   "source": [
    "#Aqui temos a confirmação que ela é FAKE\n",
    "print(Y_test[2])"
   ]
  },
  {
   "cell_type": "code",
   "execution_count": null,
   "id": "ad8d8c4b",
   "metadata": {},
   "outputs": [],
   "source": [
    "import pickle \n",
    "pickle.dump(model, open('model_fakenews.pkl', 'wb'))\n",
    "pickle.dump(vectorizer, open('tfid.pkl', 'wb'))"
   ]
  },
  {
   "cell_type": "code",
   "execution_count": null,
   "id": "0b6a405e",
   "metadata": {},
   "outputs": [],
   "source": [
    "tra_model = pickle.load(open('model_fakenews.pkl', 'rb'))\n",
    "tra_vect  = pickle.load(open('tfid.pkl', 'rb'))\n",
    "va_pkl = tra_vect.transform([stemmed_content]).toarray()\n",
    "tra_model.predict(va_pkl)"
   ]
  }
 ],
 "metadata": {
  "kernelspec": {
   "display_name": "Python 3 (ipykernel)",
   "language": "python",
   "name": "python3"
  },
  "language_info": {
   "codemirror_mode": {
    "name": "ipython",
    "version": 3
   },
   "file_extension": ".py",
   "mimetype": "text/x-python",
   "name": "python",
   "nbconvert_exporter": "python",
   "pygments_lexer": "ipython3",
   "version": "3.9.7"
  }
 },
 "nbformat": 4,
 "nbformat_minor": 5
}
